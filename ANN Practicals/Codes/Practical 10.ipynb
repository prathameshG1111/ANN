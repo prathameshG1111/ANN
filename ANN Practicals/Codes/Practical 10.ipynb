{
 "cells": [
  {
   "cell_type": "code",
   "execution_count": 4,
   "metadata": {},
   "outputs": [],
   "source": [
    "import tensorflow as tf"
   ]
  },
  {
   "cell_type": "code",
   "execution_count": 5,
   "metadata": {},
   "outputs": [
    {
     "name": "stdout",
     "output_type": "stream",
     "text": [
      "Epoch 1/3\n",
      "1875/1875 [==============================] - 20s 10ms/step - loss: 0.1575 - accuracy: 0.9535 - val_loss: 0.0608 - val_accuracy: 0.9794\n",
      "Epoch 2/3\n",
      "1875/1875 [==============================] - 20s 11ms/step - loss: 0.0562 - accuracy: 0.9828 - val_loss: 0.0509 - val_accuracy: 0.9840\n",
      "Epoch 3/3\n",
      "1875/1875 [==============================] - 16s 8ms/step - loss: 0.0397 - accuracy: 0.9874 - val_loss: 0.0353 - val_accuracy: 0.9885\n",
      "313/313 [==============================] - 1s 4ms/step - loss: 0.0353 - accuracy: 0.9885\n",
      "Test accuracy: 0.9884999990463257\n"
     ]
    }
   ],
   "source": [
    "\n",
    "# Load the MNIST dataset\n",
    "(x_train, y_train), (x_test, y_test) = tf.keras.datasets.mnist.load_data()\n",
    "\n",
    "# Normalize pixel values to [0, 1]\n",
    "x_train = x_train.astype('float32') / 255.0\n",
    "x_test = x_test.astype('float32') / 255.0\n",
    "\n",
    "# Add a channel dimension to the images\n",
    "x_train = x_train[..., tf.newaxis]\n",
    "x_test = x_test[..., tf.newaxis]\n",
    "\n",
    "# Set up the Layers of the network\n",
    "model = tf.keras.models.Sequential([\n",
    "    tf.keras.layers.Conv2D(32, (3, 3), activation='relu', input_shape=(28, 28, 1)),\n",
    "    tf. keras.layers.MaxPooling2D((2, 2)),\n",
    "    tf. keras.layers.Conv2D(64, (3, 3), activation='relu'),\n",
    "    tf. keras.layers.MaxPooling2D((2, 2)),\n",
    "    tf. keras.layers.Flatten(),\n",
    "    tf. keras.layers.Dense(10, activation='softmax')\n",
    "])\n",
    "\n",
    "# Compile the model\n",
    "\n",
    "model.compile(optimizer='adam',loss='sparse_categorical_crossentropy',metrics=['accuracy'])\n",
    "\n",
    "# Train the model on the MNIST dataset\n",
    "model.fit(x_train, y_train, epochs=3, validation_data=(x_test, y_test))\n",
    "\n",
    "# Evaluate the model on the MNIST test data\n",
    "test_loss, test_acc = model.evaluate(x_test, y_test)\n",
    "print('Test accuracy:', test_acc)"
   ]
  }
 ],
 "metadata": {
  "kernelspec": {
   "display_name": "Python 3",
   "language": "python",
   "name": "python3"
  },
  "language_info": {
   "codemirror_mode": {
    "name": "ipython",
    "version": 3
   },
   "file_extension": ".py",
   "mimetype": "text/x-python",
   "name": "python",
   "nbconvert_exporter": "python",
   "pygments_lexer": "ipython3",
   "version": "3.11.9"
  }
 },
 "nbformat": 4,
 "nbformat_minor": 2
}
