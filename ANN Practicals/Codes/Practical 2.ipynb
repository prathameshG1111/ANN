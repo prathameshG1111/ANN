{
 "cells": [
  {
   "cell_type": "code",
   "execution_count": 5,
   "id": "40c79cf2",
   "metadata": {},
   "outputs": [
    {
     "name": "stdout",
     "output_type": "stream",
     "text": [
      "Inputs:\n",
      " [[0 0]\n",
      " [0 1]\n",
      " [1 0]\n",
      " [1 1]]\n",
      "Outputs:  [0, 1, 0, 0]\n"
     ]
    }
   ],
   "source": [
    "import numpy as np\n",
    "\n",
    "def mp_neuron(inputs, weights, threshold):\n",
    "    net = np.dot(inputs, weights)\n",
    "    if net >= threshold:\n",
    "        output = 1\n",
    "    else: \n",
    "        output = 0\n",
    "    return output\n",
    "\n",
    "def andnot_nn(inputs):\n",
    "    weights = [-2, 1]\n",
    "    threshold = 0\n",
    "    outputs = [mp_neuron(inputs, weights, threshold) for weights in [[-1, 1], [1, -1]]]\n",
    "    if outputs[0] == 1 and outputs[1] == 0:\n",
    "        output = 1\n",
    "    else:\n",
    "        output = 0\n",
    "    return output\n",
    "\n",
    "inputs = np.array([[0, 0], [0, 1], [1, 0], [1, 1]])\n",
    "outputs = []\n",
    "\n",
    "for i in range(inputs.shape[0]):\n",
    "    y = andnot_nn(inputs[i].reshape(1, -1))\n",
    "    outputs.append(y)\n",
    "\n",
    "print(\"Inputs:\\n\", inputs)\n",
    "print(\"Outputs: \", outputs)"
   ]
  },
  {
   "cell_type": "code",
   "execution_count": null,
   "id": "dd769ae8",
   "metadata": {},
   "outputs": [],
   "source": []
  }
 ],
 "metadata": {
  "kernelspec": {
   "display_name": "Python 3 (ipykernel)",
   "language": "python",
   "name": "python3"
  },
  "language_info": {
   "codemirror_mode": {
    "name": "ipython",
    "version": 3
   },
   "file_extension": ".py",
   "mimetype": "text/x-python",
   "name": "python",
   "nbconvert_exporter": "python",
   "pygments_lexer": "ipython3",
   "version": "3.11.9"
  }
 },
 "nbformat": 4,
 "nbformat_minor": 5
}
