{
 "cells": [
  {
   "cell_type": "code",
   "execution_count": 1,
   "id": "dd65a794-5a05-47d1-9f05-93052801696a",
   "metadata": {},
   "outputs": [
    {
     "name": "stdout",
     "output_type": "stream",
     "text": [
      "Test Number: 4\n",
      "Even\n"
     ]
    }
   ],
   "source": [
    "import numpy as np\n",
    "\n",
    "class Perceptron:\n",
    "    def __init__(self, input_size, lr=1, epochs=100):\n",
    "        self.W = np.zeros(input_size+1)\n",
    "        self.epochs = epochs\n",
    "        self.lr = lr\n",
    "   \n",
    "    def activation_fn(self, x):\n",
    "        return 1 if x >= 0 else 0\n",
    "   \n",
    "    def predict(self, x):\n",
    "        z = self.W.T.dot(x)\n",
    "        a = self.activation_fn(z)\n",
    "        return a\n",
    "   \n",
    "    def fit(self, X, d):\n",
    "        for _ in range(self.epochs):\n",
    "            for i in range(d.shape[0]):\n",
    "                x = np.insert(X[i], 0, 1)\n",
    "                y = self.predict(x)\n",
    "                e = d[i] - y\n",
    "                self.W = self.W + self.lr * e * x\n",
    "\n",
    "X_train = np.array([\n",
    "    [0,0,0,0,0,0,0,0,0,0],  # ASCII representation of 0\n",
    "    [0,0,0,0,0,0,0,0,0,1],  # ASCII representation of 1\n",
    "    [0,0,0,0,0,0,0,0,1,0],  # ASCII representation of 2\n",
    "    [0,0,0,0,0,0,0,0,1,1],  # ASCII representation of 3\n",
    "    [0,0,0,0,0,0,0,1,0,0],  # ASCII representation of 4\n",
    "    [0,0,0,0,0,0,0,1,0,1],  # ASCII representation of 5\n",
    "    [0,0,0,0,0,0,0,1,1,0],  # ASCII representation of 6\n",
    "    [0,0,0,0,0,0,0,1,1,1],  # ASCII representation of 7\n",
    "    [0,0,0,0,0,0,1,0,0,0],  # ASCII representation of 8\n",
    "    [0,0,0,0,0,0,1,0,0,1],  # ASCII representation of 9\n",
    "])\n",
    "\n",
    "d_train = np.array([0,1,0,1,0,1,0,1,0,1])\n",
    "\n",
    "perceptron = Perceptron(input_size=10)\n",
    "perceptron.fit(X_train, d_train)\n",
    "\n",
    "test_number = input(\"Enter a number in ASCII form (0 to 9): \")\n",
    "test_input = np.array([int(c) for c in test_number])\n",
    "test_input = np.pad(test_input, (0, 10 - len(test_input)), 'constant')  \n",
    "prediction = perceptron.predict(np.insert(test_input, 0, 1))\n",
    "\n",
    "test_number = int(test_number, 2)  \n",
    "print(f\"Test Number: {test_number}\")\n",
    "if prediction == 1:\n",
    "    print(\"Odd\")\n",
    "else:\n",
    "    print(\"Even\")"
   ]
  }
 ],
 "metadata": {
  "kernelspec": {
   "display_name": "Python 3 (ipykernel)",
   "language": "python",
   "name": "python3"
  },
  "language_info": {
   "codemirror_mode": {
    "name": "ipython",
    "version": 3
   },
   "file_extension": ".py",
   "mimetype": "text/x-python",
   "name": "python",
   "nbconvert_exporter": "python",
   "pygments_lexer": "ipython3",
   "version": "3.11.9"
  }
 },
 "nbformat": 4,
 "nbformat_minor": 5
}
