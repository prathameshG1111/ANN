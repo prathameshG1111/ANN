{
 "cells": [
  {
   "cell_type": "code",
   "execution_count": 1,
   "metadata": {},
   "outputs": [],
   "source": [
    "import numpy as np\n",
    "\n",
    "class BAM:\n",
    "    def __init__(self, input_size, output_size):\n",
    "            self.weights = np.zeros((output_size, input_size))\n",
    "\n",
    "    def train(self, input_patterns, output_patterns):\n",
    "          for i in range(input_patterns.shape[0]):\n",
    "                x = input_patterns[i]\n",
    "                y = output_patterns[i]\n",
    "                self.weights += np.outer(y, x)\n",
    "    def recall_input(self, output_patterns):\n",
    "          return np.dot(self.weights, output_patterns)\n",
    "    def recall_output(self, input_patterns):\n",
    "          return np.dot(self.weights, input_patterns)"
   ]
  },
  {
   "cell_type": "markdown",
   "metadata": {},
   "source": [
    "Implement BAM Network"
   ]
  },
  {
   "cell_type": "code",
   "execution_count": 2,
   "metadata": {},
   "outputs": [],
   "source": [
    "input_size = 2\n",
    "output_size = 2\n",
    "bam = BAM(input_size, output_size)"
   ]
  },
  {
   "cell_type": "markdown",
   "metadata": {},
   "source": [
    "Train the network"
   ]
  },
  {
   "cell_type": "code",
   "execution_count": 4,
   "metadata": {},
   "outputs": [],
   "source": [
    "input_patterns = np.array([[1, -1], [-1, 1]])\n",
    "output_patterns = np.array([[-1, 1], [1, -1]])\n",
    "bam.train(input_patterns, output_patterns)"
   ]
  },
  {
   "cell_type": "markdown",
   "metadata": {},
   "source": [
    "Test input to output"
   ]
  },
  {
   "cell_type": "code",
   "execution_count": 5,
   "metadata": {},
   "outputs": [
    {
     "name": "stdout",
     "output_type": "stream",
     "text": [
      "Input: [ 1 -1]\n",
      "Recalled Output: [-4.  4.]\n"
     ]
    }
   ],
   "source": [
    "test_input = np.array([1, -1])\n",
    "output_recall = bam.recall_output(test_input)\n",
    "print(\"Input:\", test_input)\n",
    "print(\"Recalled Output:\", output_recall)"
   ]
  },
  {
   "cell_type": "code",
   "execution_count": 6,
   "metadata": {},
   "outputs": [
    {
     "name": "stdout",
     "output_type": "stream",
     "text": [
      "Input Recall: [ 4. -4.]\n",
      "Recalled Output: [-1  1]\n"
     ]
    }
   ],
   "source": [
    "test_output = np.array([-1, 1])\n",
    "input_recall = bam.recall_input(test_output)\n",
    "print(\"Input Recall:\", input_recall)\n",
    "print(\"Recalled Output:\", test_output)"
   ]
  }
 ],
 "metadata": {
  "kernelspec": {
   "display_name": "Python 3",
   "language": "python",
   "name": "python3"
  },
  "language_info": {
   "codemirror_mode": {
    "name": "ipython",
    "version": 3
   },
   "file_extension": ".py",
   "mimetype": "text/x-python",
   "name": "python",
   "nbconvert_exporter": "python",
   "pygments_lexer": "ipython3",
   "version": "3.11.9"
  }
 },
 "nbformat": 4,
 "nbformat_minor": 2
}
