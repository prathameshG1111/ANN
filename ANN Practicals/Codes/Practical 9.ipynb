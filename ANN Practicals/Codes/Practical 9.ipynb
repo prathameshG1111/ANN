{
 "cells": [
  {
   "cell_type": "code",
   "execution_count": 7,
   "metadata": {},
   "outputs": [],
   "source": [
    "import tensorflow as tf\n",
    "import numpy as np"
   ]
  },
  {
   "cell_type": "code",
   "execution_count": 8,
   "metadata": {},
   "outputs": [],
   "source": [
    "# Generate some random data\n",
    "np.random.seed(0)\n",
    "x = np.random.rand(1000, 2)\n",
    "y = np.random.randint(2, size=1000)"
   ]
  },
  {
   "cell_type": "code",
   "execution_count": 9,
   "metadata": {},
   "outputs": [],
   "source": [
    "# Split the data into training and testing sets\n",
    "x_train, x_test = x[:800], x[800:]\n",
    "y_train, y_test = y[:800], y[800:]"
   ]
  },
  {
   "cell_type": "code",
   "execution_count": 10,
   "metadata": {},
   "outputs": [],
   "source": [
    "# Define the logistic regression model\n",
    "model = tf.keras.Sequential([tf.keras.layers.Dense(1, activation='sigmoid', input_dim=2)])"
   ]
  },
  {
   "cell_type": "code",
   "execution_count": 11,
   "metadata": {},
   "outputs": [
    {
     "name": "stdout",
     "output_type": "stream",
     "text": [
      "Epoch 1/10\n",
      "25/25 [==============================] - 1s 4ms/step - loss: 0.7499 - accuracy: 0.4875\n",
      "Epoch 2/10\n",
      "25/25 [==============================] - 0s 3ms/step - loss: 0.7429 - accuracy: 0.4850\n",
      "Epoch 3/10\n",
      "25/25 [==============================] - 0s 2ms/step - loss: 0.7367 - accuracy: 0.4875\n",
      "Epoch 4/10\n",
      "25/25 [==============================] - 0s 3ms/step - loss: 0.7309 - accuracy: 0.4863\n",
      "Epoch 5/10\n",
      "25/25 [==============================] - 0s 3ms/step - loss: 0.7260 - accuracy: 0.4800\n",
      "Epoch 6/10\n",
      "25/25 [==============================] - 0s 3ms/step - loss: 0.7216 - accuracy: 0.4800\n",
      "Epoch 7/10\n",
      "25/25 [==============================] - 0s 3ms/step - loss: 0.7178 - accuracy: 0.4775\n",
      "Epoch 8/10\n",
      "25/25 [==============================] - 0s 3ms/step - loss: 0.7143 - accuracy: 0.4737\n",
      "Epoch 9/10\n",
      "25/25 [==============================] - 0s 3ms/step - loss: 0.7114 - accuracy: 0.4663\n",
      "Epoch 10/10\n",
      "25/25 [==============================] - 0s 2ms/step - loss: 0.7088 - accuracy: 0.4712\n"
     ]
    },
    {
     "data": {
      "text/plain": [
       "<keras.src.callbacks.History at 0x25e7d00fd90>"
      ]
     },
     "execution_count": 11,
     "metadata": {},
     "output_type": "execute_result"
    }
   ],
   "source": [
    "# Compile and train the model\n",
    "model.compile(optimizer='adam',loss=tf.keras.losses.BinaryCrossentropy(from_logits=False),metrics=['accuracy'])\n",
    "model.fit(x_train, y_train, epochs=10)"
   ]
  },
  {
   "cell_type": "code",
   "execution_count": 12,
   "metadata": {},
   "outputs": [
    {
     "name": "stdout",
     "output_type": "stream",
     "text": [
      "7/7 [==============================] - 0s 4ms/step - loss: 0.7129 - accuracy: 0.4850\n",
      "Test loss: 0.7129031419754028\n",
      "Test accuracy: 0.48500001430511475\n"
     ]
    }
   ],
   "source": [
    "# Evaluate the model on testing data\n",
    "loss, accuracy = model.evaluate(x_test, y_test)\n",
    "print('Test loss:', loss)\n",
    "print('Test accuracy:', accuracy)"
   ]
  }
 ],
 "metadata": {
  "kernelspec": {
   "display_name": "Python 3",
   "language": "python",
   "name": "python3"
  },
  "language_info": {
   "codemirror_mode": {
    "name": "ipython",
    "version": 3
   },
   "file_extension": ".py",
   "mimetype": "text/x-python",
   "name": "python",
   "nbconvert_exporter": "python",
   "pygments_lexer": "ipython3",
   "version": "3.11.9"
  }
 },
 "nbformat": 4,
 "nbformat_minor": 2
}
